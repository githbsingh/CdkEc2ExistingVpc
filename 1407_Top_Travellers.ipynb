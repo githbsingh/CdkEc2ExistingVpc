{
  "nbformat": 4,
  "nbformat_minor": 0,
  "metadata": {
    "colab": {
      "provenance": [],
      "authorship_tag": "ABX9TyOKKcefe5xpvJ5KCsRyvXQ7"
    },
    "kernelspec": {
      "name": "python3",
      "display_name": "Python 3"
    },
    "language_info": {
      "name": "python"
    }
  },
  "cells": [
    {
      "cell_type": "code",
      "execution_count": null,
      "metadata": {
        "id": "oC0qDo4KJysE"
      },
      "outputs": [],
      "source": [
        "# Write your MySQL query statement below\n",
        "SELECT u.name, coalesce(src.travelled_distance, 0) as travelled_distance  FROM Users u LEFT JOIN (SELECT user_id, sum(distance) as travelled_distance FROM Rides\n",
        "GROUP BY user_id) as src\n",
        "ON u.id=src.user_id\n",
        "ORDER BY src.travelled_distance desc, u.name asc"
      ]
    }
  ]
}