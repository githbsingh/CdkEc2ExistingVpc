{
  "nbformat": 4,
  "nbformat_minor": 0,
  "metadata": {
    "colab": {
      "provenance": [],
      "authorship_tag": "ABX9TyOm5ew+Z7Z5RHTcyjw1Myw2"
    },
    "kernelspec": {
      "name": "python3",
      "display_name": "Python 3"
    },
    "language_info": {
      "name": "python"
    }
  },
  "cells": [
    {
      "cell_type": "code",
      "execution_count": null,
      "metadata": {
        "id": "oC0qDo4KJysE"
      },
      "outputs": [],
      "source": [
        "# Write your MySQL query statement below\n",
        "WITH sell as (\n",
        "SELECT stock_name, operation, sum(price) as s_amount FROM Stocks\n",
        "WHERE operation='Sell'\n",
        "GROUP BY stock_name, operation\n",
        "),\n",
        "\n",
        "buy as (\n",
        "SELECT stock_name, operation, sum(price) as b_amount FROM Stocks\n",
        "WHERE operation='buy'\n",
        "GROUP BY stock_name, operation\n",
        ")\n",
        "\n",
        "SELECT s.stock_name, (s.s_amount- b.b_amount) as capital_gain_loss FROM sell s\n",
        "INNER JOIN buy b\n",
        "ON s.stock_name=b.stock_name"
      ]
    }
  ]
}