{
  "nbformat": 4,
  "nbformat_minor": 0,
  "metadata": {
    "colab": {
      "provenance": [],
      "authorship_tag": "ABX9TyOFqeICSgqH4rUmUukUyX8y",
      "include_colab_link": true
    },
    "kernelspec": {
      "name": "python3",
      "display_name": "Python 3"
    },
    "language_info": {
      "name": "python"
    }
  },
  "cells": [
    {
      "cell_type": "markdown",
      "metadata": {
        "id": "view-in-github",
        "colab_type": "text"
      },
      "source": [
        "<a href=\"https://colab.research.google.com/github/githbsingh/CdkEc2ExistingVpc/blob/master/626_Exchange_Seats.ipynb\" target=\"_parent\"><img src=\"https://colab.research.google.com/assets/colab-badge.svg\" alt=\"Open In Colab\"/></a>"
      ]
    },
    {
      "cell_type": "markdown",
      "source": [
        "#### Q. 626. Exchange Seats\n",
        "Sol. # Write your MySQL query statement below\n",
        "SELECT\n",
        "CASE WHEN id = (SELECT count(*) FROM Seat) and MOD(id,2) = 1 THEN id\n",
        " WHEN MOD(id,2) = 1 THEN id + 1\n",
        " WHEN MOD(id,2) = 0 THEN id - 1\n",
        "END AS id,\n",
        "student\n",
        "FROM Seat\n",
        "order by id"
      ],
      "metadata": {
        "id": "GD1lRCLtVfdP"
      }
    }
  ]
}