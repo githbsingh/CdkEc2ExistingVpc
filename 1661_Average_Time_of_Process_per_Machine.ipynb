{
  "nbformat": 4,
  "nbformat_minor": 0,
  "metadata": {
    "colab": {
      "provenance": [],
      "authorship_tag": "ABX9TyPVcOAWCHq4HjjqvbIL2CoO",
      "include_colab_link": true
    },
    "kernelspec": {
      "name": "python3",
      "display_name": "Python 3"
    },
    "language_info": {
      "name": "python"
    }
  },
  "cells": [
    {
      "cell_type": "markdown",
      "metadata": {
        "id": "view-in-github",
        "colab_type": "text"
      },
      "source": [
        "<a href=\"https://colab.research.google.com/github/githbsingh/CdkEc2ExistingVpc/blob/master/1661_Average_Time_of_Process_per_Machine.ipynb\" target=\"_parent\"><img src=\"https://colab.research.google.com/assets/colab-badge.svg\" alt=\"Open In Colab\"/></a>"
      ]
    },
    {
      "cell_type": "markdown",
      "source": [
        "#### Q. 1661. Average Time of Process per Machine\n",
        "Sol. # Write your MySQL query statement below\n",
        "with start as\n",
        "(\n",
        "SELECT machine_id, process_id, timestamp FROM activity\n",
        "WHERE activity_type = 'start'),\n",
        "end as\n",
        "(\n",
        "    SELECT machine_id, process_id, timestamp FROM activity\n",
        "WHERE activity_type = 'end')\n",
        "\n",
        "SELECT e.machine_id, round(avg(e.timestamp-s.timestamp),3) as processing_time FROM start s inner join end e\n",
        "on s.machine_id = e.machine_id and s.process_id=e.process_id\n",
        "GROUP BY e.machine_id"
      ],
      "metadata": {
        "id": "tmAZ84NOq0s_"
      }
    }
  ]
}