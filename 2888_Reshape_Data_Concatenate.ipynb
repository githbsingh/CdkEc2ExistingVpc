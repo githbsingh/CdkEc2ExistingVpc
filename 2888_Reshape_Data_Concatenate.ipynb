{
  "nbformat": 4,
  "nbformat_minor": 0,
  "metadata": {
    "colab": {
      "provenance": [],
      "authorship_tag": "ABX9TyP08kWuNYML1N+lqV+8OS6L",
      "include_colab_link": true
    },
    "kernelspec": {
      "name": "python3",
      "display_name": "Python 3"
    },
    "language_info": {
      "name": "python"
    }
  },
  "cells": [
    {
      "cell_type": "markdown",
      "metadata": {
        "id": "view-in-github",
        "colab_type": "text"
      },
      "source": [
        "<a href=\"https://colab.research.google.com/github/githbsingh/CdkEc2ExistingVpc/blob/master/2888_Reshape_Data_Concatenate.ipynb\" target=\"_parent\"><img src=\"https://colab.research.google.com/assets/colab-badge.svg\" alt=\"Open In Colab\"/></a>"
      ]
    },
    {
      "cell_type": "code",
      "execution_count": null,
      "metadata": {
        "id": "qML68ZQkJ5Wv"
      },
      "outputs": [],
      "source": [
        "import pandas as pd\n",
        "\n",
        "def concatenateTables(df1: pd.DataFrame, df2: pd.DataFrame) -> pd.DataFrame:\n",
        "    return pd.concat([df1, df2], ignore_index=True)\n",
        ""
      ]
    }
  ]
}